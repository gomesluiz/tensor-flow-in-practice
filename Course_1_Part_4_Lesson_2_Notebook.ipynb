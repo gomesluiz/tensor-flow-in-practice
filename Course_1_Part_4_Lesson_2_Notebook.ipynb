{
  "nbformat": 4,
  "nbformat_minor": 0,
  "metadata": {
    "colab": {
      "name": "Course 1 - Part 4 - Lesson 2 - Notebook - By - Me.ipynb",
      "provenance": [],
      "authorship_tag": "ABX9TyOTNaD49We/He0Btnn0JKxi",
      "include_colab_link": true
    },
    "kernelspec": {
      "name": "python3",
      "display_name": "Python 3"
    }
  },
  "cells": [
    {
      "cell_type": "markdown",
      "metadata": {
        "id": "view-in-github",
        "colab_type": "text"
      },
      "source": [
        "<a href=\"https://colab.research.google.com/github/gomesluiz/tensor-flow-in-practice/blob/master/Course_1_Part_4_Lesson_2_Notebook_By_Me.ipynb\" target=\"_parent\"><img src=\"https://colab.research.google.com/assets/colab-badge.svg\" alt=\"Open In Colab\"/></a>"
      ]
    },
    {
      "cell_type": "code",
      "metadata": {
        "id": "mxHTtQeA092t",
        "colab_type": "code",
        "colab": {
          "base_uri": "https://localhost:8080/",
          "height": 34
        },
        "outputId": "2974a8bb-b178-4062-9909-f5ff2b1139b5"
      },
      "source": [
        "import tensorflow as tf\n",
        "print(tf.__version__)"
      ],
      "execution_count": 37,
      "outputs": [
        {
          "output_type": "stream",
          "text": [
            "2.2.0\n"
          ],
          "name": "stdout"
        }
      ]
    },
    {
      "cell_type": "code",
      "metadata": {
        "id": "rxANBk_j1Nml",
        "colab_type": "code",
        "colab": {}
      },
      "source": [
        "mnist = tf.keras.datasets.fashion_mnist\n",
        "(training_images, training_labels), (test_images, test_labels) = mnist.load_data()"
      ],
      "execution_count": 38,
      "outputs": []
    },
    {
      "cell_type": "code",
      "metadata": {
        "id": "WMMfK6AK1li9",
        "colab_type": "code",
        "colab": {
          "base_uri": "https://localhost:8080/",
          "height": 282
        },
        "outputId": "87a89062-c679-4724-ed19-b0121db95557"
      },
      "source": [
        "import numpy as np\n",
        "np.set_printoptions(linewidth=200)\n",
        "import matplotlib.pyplot as plt\n",
        "plt.imshow(training_images[0])"
      ],
      "execution_count": 39,
      "outputs": [
        {
          "output_type": "execute_result",
          "data": {
            "text/plain": [
              "<matplotlib.image.AxesImage at 0x7f4548aa0c88>"
            ]
          },
          "metadata": {
            "tags": []
          },
          "execution_count": 39
        },
        {
          "output_type": "display_data",
          "data": {
            "image/png": "[encoded data removed]",
            "text/plain": [
              "<Figure size 432x288 with 1 Axes>"
            ]
          },
          "metadata": {
            "tags": [],
            "needs_background": "light"
          }
        }
      ]
    },
    {
      "cell_type": "code",
      "metadata": {
        "id": "c8hb2XJj2DN-",
        "colab_type": "code",
        "colab": {
          "base_uri": "https://localhost:8080/",
          "height": 34
        },
        "outputId": "03e635a1-90d0-47df-af5a-a90d82eb79ba"
      },
      "source": [
        "print(training_labels[0])"
      ],
      "execution_count": 40,
      "outputs": [
        {
          "output_type": "stream",
          "text": [
            "9\n"
          ],
          "name": "stdout"
        }
      ]
    },
    {
      "cell_type": "code",
      "metadata": {
        "id": "mURGYPdr2L-9",
        "colab_type": "code",
        "colab": {
          "base_uri": "https://localhost:8080/",
          "height": 503
        },
        "outputId": "c5427c88-982e-4efa-cb94-c95ac6b76c37"
      },
      "source": [
        "print(training_images[0])"
      ],
      "execution_count": 41,
      "outputs": [
        {
          "output_type": "stream",
          "text": [
            "[[  0   0   0   0   0   0   0   0   0   0   0   0   0   0   0   0   0   0   0   0   0   0   0   0   0   0   0   0]\n",
            " [  0   0   0   0   0   0   0   0   0   0   0   0   0   0   0   0   0   0   0   0   0   0   0   0   0   0   0   0]\n",
            " [  0   0   0   0   0   0   0   0   0   0   0   0   0   0   0   0   0   0   0   0   0   0   0   0   0   0   0   0]\n",
            " [  0   0   0   0   0   0   0   0   0   0   0   0   1   0   0  13  73   0   0   1   4   0   0   0   0   1   1   0]\n",
            " [  0   0   0   0   0   0   0   0   0   0   0   0   3   0  36 136 127  62  54   0   0   0   1   3   4   0   0   3]\n",
            " [  0   0   0   0   0   0   0   0   0   0   0   0   6   0 102 204 176 134 144 123  23   0   0   0   0  12  10   0]\n",
            " [  0   0   0   0   0   0   0   0   0   0   0   0   0   0 155 236 207 178 107 156 161 109  64  23  77 130  72  15]\n",
            " [  0   0   0   0   0   0   0   0   0   0   0   1   0  69 207 223 218 216 216 163 127 121 122 146 141  88 172  66]\n",
            " [  0   0   0   0   0   0   0   0   0   1   1   1   0 200 232 232 233 229 223 223 215 213 164 127 123 196 229   0]\n",
            " [  0   0   0   0   0   0   0   0   0   0   0   0   0 183 225 216 223 228 235 227 224 222 224 221 223 245 173   0]\n",
            " [  0   0   0   0   0   0   0   0   0   0   0   0   0 193 228 218 213 198 180 212 210 211 213 223 220 243 202   0]\n",
            " [  0   0   0   0   0   0   0   0   0   1   3   0  12 219 220 212 218 192 169 227 208 218 224 212 226 197 209  52]\n",
            " [  0   0   0   0   0   0   0   0   0   0   6   0  99 244 222 220 218 203 198 221 215 213 222 220 245 119 167  56]\n",
            " [  0   0   0   0   0   0   0   0   0   4   0   0  55 236 228 230 228 240 232 213 218 223 234 217 217 209  92   0]\n",
            " [  0   0   1   4   6   7   2   0   0   0   0   0 237 226 217 223 222 219 222 221 216 223 229 215 218 255  77   0]\n",
            " [  0   3   0   0   0   0   0   0   0  62 145 204 228 207 213 221 218 208 211 218 224 223 219 215 224 244 159   0]\n",
            " [  0   0   0   0  18  44  82 107 189 228 220 222 217 226 200 205 211 230 224 234 176 188 250 248 233 238 215   0]\n",
            " [  0  57 187 208 224 221 224 208 204 214 208 209 200 159 245 193 206 223 255 255 221 234 221 211 220 232 246   0]\n",
            " [  3 202 228 224 221 211 211 214 205 205 205 220 240  80 150 255 229 221 188 154 191 210 204 209 222 228 225   0]\n",
            " [ 98 233 198 210 222 229 229 234 249 220 194 215 217 241  65  73 106 117 168 219 221 215 217 223 223 224 229  29]\n",
            " [ 75 204 212 204 193 205 211 225 216 185 197 206 198 213 240 195 227 245 239 223 218 212 209 222 220 221 230  67]\n",
            " [ 48 203 183 194 213 197 185 190 194 192 202 214 219 221 220 236 225 216 199 206 186 181 177 172 181 205 206 115]\n",
            " [  0 122 219 193 179 171 183 196 204 210 213 207 211 210 200 196 194 191 195 191 198 192 176 156 167 177 210  92]\n",
            " [  0   0  74 189 212 191 175 172 175 181 185 188 189 188 193 198 204 209 210 210 211 188 188 194 192 216 170   0]\n",
            " [  2   0   0   0  66 200 222 237 239 242 246 243 244 221 220 193 191 179 182 182 181 176 166 168  99  58   0   0]\n",
            " [  0   0   0   0   0   0   0  40  61  44  72  41  35   0   0   0   0   0   0   0   0   0   0   0   0   0   0   0]\n",
            " [  0   0   0   0   0   0   0   0   0   0   0   0   0   0   0   0   0   0   0   0   0   0   0   0   0   0   0   0]\n",
            " [  0   0   0   0   0   0   0   0   0   0   0   0   0   0   0   0   0   0   0   0   0   0   0   0   0   0   0   0]]\n"
          ],
          "name": "stdout"
        }
      ]
    },
    {
      "cell_type": "code",
      "metadata": {
        "id": "bgrUOKOo2ZpJ",
        "colab_type": "code",
        "colab": {}
      },
      "source": [
        "training_images = training_images / 255.00 \n",
        "test_images = test_images / 255.00"
      ],
      "execution_count": 42,
      "outputs": []
    },
    {
      "cell_type": "code",
      "metadata": {
        "id": "m8m2UHsI3vO3",
        "colab_type": "code",
        "colab": {}
      },
      "source": [
        "model = tf.keras.models.Sequential([tf.keras.layers.Flatten(), \n",
        "                                    tf.keras.layers.Dense(128, activation=tf.nn.relu),\n",
        "                                    tf.keras.layers.Dense(10, activation=tf.nn.softmax)])"
      ],
      "execution_count": 43,
      "outputs": []
    },
    {
      "cell_type": "code",
      "metadata": {
        "id": "i06vnWYJ7_A5",
        "colab_type": "code",
        "colab": {}
      },
      "source": [
        "model.compile(optimizer=tf.optimizers.Adam(), loss='sparse_categorical_crossentropy', metrics=['accuracy'])"
      ],
      "execution_count": 44,
      "outputs": []
    },
    {
      "cell_type": "code",
      "metadata": {
        "id": "aX9iIZ9O8U46",
        "colab_type": "code",
        "colab": {
          "base_uri": "https://localhost:8080/",
          "height": 208
        },
        "outputId": "387623dc-3203-4038-b285-accaa64ea789"
      },
      "source": [
        "model.fit(training_images, training_labels, epochs=5)"
      ],
      "execution_count": 45,
      "outputs": [
        {
          "output_type": "stream",
          "text": [
            "Epoch 1/5\n",
            "1875/1875 [==============================] - 3s 2ms/step - loss: 0.5001 - accuracy: 0.8231\n",
            "Epoch 2/5\n",
            "1875/1875 [==============================] - 3s 2ms/step - loss: 0.3732 - accuracy: 0.8658\n",
            "Epoch 3/5\n",
            "1875/1875 [==============================] - 3s 1ms/step - loss: 0.3367 - accuracy: 0.8771\n",
            "Epoch 4/5\n",
            "1875/1875 [==============================] - 3s 2ms/step - loss: 0.3124 - accuracy: 0.8851\n",
            "Epoch 5/5\n",
            "1875/1875 [==============================] - 3s 1ms/step - loss: 0.2962 - accuracy: 0.8917\n"
          ],
          "name": "stdout"
        },
        {
          "output_type": "execute_result",
          "data": {
            "text/plain": [
              "<tensorflow.python.keras.callbacks.History at 0x7f454824b8d0>"
            ]
          },
          "metadata": {
            "tags": []
          },
          "execution_count": 45
        }
      ]
    },
    {
      "cell_type": "code",
      "metadata": {
        "id": "WWgUaBBk8keN",
        "colab_type": "code",
        "colab": {
          "base_uri": "https://localhost:8080/",
          "height": 52
        },
        "outputId": "758ebbf9-e6eb-45b4-b821-3884253d7dd2"
      },
      "source": [
        "model.evaluate(test_images, test_labels)"
      ],
      "execution_count": 46,
      "outputs": [
        {
          "output_type": "stream",
          "text": [
            "313/313 [==============================] - 0s 1ms/step - loss: 0.3561 - accuracy: 0.8724\n"
          ],
          "name": "stdout"
        },
        {
          "output_type": "execute_result",
          "data": {
            "text/plain": [
              "[0.35612237453460693, 0.8723999857902527]"
            ]
          },
          "metadata": {
            "tags": []
          },
          "execution_count": 46
        }
      ]
    },
    {
      "cell_type": "code",
      "metadata": {
        "id": "Db1I7wkS9rDn",
        "colab_type": "code",
        "colab": {
          "base_uri": "https://localhost:8080/",
          "height": 54
        },
        "outputId": "fd7a678d-a494-4a9e-c3ff-a7792259f799"
      },
      "source": [
        "classifications = model.predict(test_images)\n",
        "print(classifications[0])"
      ],
      "execution_count": 47,
      "outputs": [
        {
          "output_type": "stream",
          "text": [
            "[1.67688795e-05 1.46411622e-07 7.41130748e-08 1.76073357e-07 6.03306631e-08 3.24435420e-02 4.53704797e-06 1.47048328e-02 1.34926895e-05 9.52816427e-01]\n"
          ],
          "name": "stdout"
        }
      ]
    },
    {
      "cell_type": "code",
      "metadata": {
        "id": "XhA3HZP093_1",
        "colab_type": "code",
        "colab": {
          "base_uri": "https://localhost:8080/",
          "height": 34
        },
        "outputId": "7d4cde8a-eff1-4544-d42b-65441b562fda"
      },
      "source": [
        "print(test_labels[0])"
      ],
      "execution_count": 49,
      "outputs": [
        {
          "output_type": "stream",
          "text": [
            "9\n"
          ],
          "name": "stdout"
        }
      ]
    },
    {
      "cell_type": "code",
      "metadata": {
        "id": "SK3a2nAf_IvY",
        "colab_type": "code",
        "colab": {
          "base_uri": "https://localhost:8080/",
          "height": 280
        },
        "outputId": "9ef83503-ede2-44d3-cb77-8803ffec474e"
      },
      "source": [
        "import tensorflow as tf\n",
        "print(tf.__version__)\n",
        "mnist = tf.keras.datasets.mnist\n",
        "(training_images, training_labels), (test_images, test_labels) = mnist.load_data()\n",
        "training_images = training_images / 255.0\n",
        "test_images = test_images / 255.0\n",
        "model = tf.keras.models.Sequential([tf.keras.layers.Flatten(), \n",
        "                                    tf.keras.layers.Dense(1024, activation=tf.nn.relu),\n",
        "                                    tf.keras.layers.Dense(10, activation=tf.nn.softmax)])\n",
        "model.compile(optimizer='Adam', loss='sparse_categorical_crossentropy')\n",
        "model.fit(training_images, training_labels, epochs=5)\n",
        "model.evaluate(test_images, test_labels)\n",
        "classifications = model.predict(test_images)\n",
        "print(classifications[0])\n",
        "print(test_labels[0])"
      ],
      "execution_count": 55,
      "outputs": [
        {
          "output_type": "stream",
          "text": [
            "2.2.0\n",
            "Epoch 1/5\n",
            "1875/1875 [==============================] - 10s 5ms/step - loss: 0.1807\n",
            "Epoch 2/5\n",
            "1875/1875 [==============================] - 10s 5ms/step - loss: 0.0737\n",
            "Epoch 3/5\n",
            "1875/1875 [==============================] - 9s 5ms/step - loss: 0.0459\n",
            "Epoch 4/5\n",
            "1875/1875 [==============================] - 9s 5ms/step - loss: 0.0354\n",
            "Epoch 5/5\n",
            "1875/1875 [==============================] - 9s 5ms/step - loss: 0.0264\n",
            "313/313 [==============================] - 1s 2ms/step - loss: 0.0691\n",
            "[8.2267076e-10 4.9009294e-09 3.0100672e-08 3.5219267e-07 3.4824053e-13 3.1220936e-11 3.8015026e-13 9.9999952e-01 4.8625187e-10 1.1583464e-07]\n",
            "7\n"
          ],
          "name": "stdout"
        }
      ]
    },
    {
      "cell_type": "code",
      "metadata": {
        "id": "gWDKpEbpB4wn",
        "colab_type": "code",
        "colab": {
          "base_uri": "https://localhost:8080/",
          "height": 610
        },
        "outputId": "fc88ec56-2233-4a28-c3b7-4edf4e0b62a1"
      },
      "source": [
        "import tensorflow as tf\n",
        "print(tf.__version__)\n",
        "mnist = tf.keras.datasets.mnist\n",
        "(training_images, training_labels), (test_images, test_labels) = mnist.load_data()\n",
        "training_images = training_images / 255.0\n",
        "test_images = test_images / 255.0\n",
        "model = tf.keras.models.Sequential([tf.keras.layers.Flatten(), \n",
        "                                    tf.keras.layers.Dense(512, activation=tf.nn.relu),\n",
        "                                    tf.keras.layers.Dense(256, activation=tf.nn.softmax)])\n",
        "model.compile(optimizer='Adam', loss='sparse_categorical_crossentropy')\n",
        "model.fit(training_images, training_labels, epochs=5)\n",
        "model.evaluate(test_images, test_labels)\n",
        "classifications = model.predict(test_images)\n",
        "print(classifications[0])\n",
        "print(test_labels[0])"
      ],
      "execution_count": 56,
      "outputs": [
        {
          "output_type": "stream",
          "text": [
            "2.2.0\n",
            "Epoch 1/5\n",
            "1875/1875 [==============================] - 9s 5ms/step - loss: 0.2352\n",
            "Epoch 2/5\n",
            "1875/1875 [==============================] - 9s 5ms/step - loss: 0.0852\n",
            "Epoch 3/5\n",
            "1875/1875 [==============================] - 8s 5ms/step - loss: 0.0554\n",
            "Epoch 4/5\n",
            "1875/1875 [==============================] - 9s 5ms/step - loss: 0.0405\n",
            "Epoch 5/5\n",
            "1875/1875 [==============================] - 9s 5ms/step - loss: 0.0288\n",
            "313/313 [==============================] - 1s 2ms/step - loss: 0.0765\n",
            "[2.95950486e-10 4.99932540e-09 4.20719921e-08 3.30373973e-06 1.42141863e-11 8.88072949e-10 1.38039929e-13 9.99991655e-01 1.85418632e-08 4.82334781e-06 5.40906329e-14 7.87987365e-14 2.16980147e-13\n",
            " 3.39100709e-13 1.08126649e-13 3.69561993e-13 3.57056073e-13 1.25218033e-13 9.19621367e-14 4.87826264e-14 1.70685524e-14 1.01850298e-13 8.65157487e-14 6.99600358e-14 8.29962862e-14 3.57939102e-13\n",
            " 1.08966384e-13 2.17280810e-13 1.16352186e-13 1.19810222e-13 2.37034974e-13 1.13062513e-13 3.31505846e-13 1.51919818e-13 4.19124994e-13 2.06174582e-13 1.04230609e-13 4.41744385e-14 6.84662288e-14\n",
            " 4.47371158e-14 1.08268219e-13 1.94423335e-13 3.52441492e-13 6.40289552e-14 2.56944937e-13 2.86971564e-13 9.15100041e-14 1.44694139e-13 1.79579130e-13 1.97939850e-13 1.88196952e-13 3.61160890e-13\n",
            " 2.22052398e-13 1.99585940e-13 1.11597905e-13 9.41878547e-14 5.31631596e-13 2.76583210e-14 2.41651995e-13 3.00855478e-13 5.84185749e-14 1.15699578e-13 1.18749818e-13 9.96143543e-14 3.52571095e-14\n",
            " 1.61822717e-13 1.38591314e-13 1.83839136e-13 1.48384113e-14 8.73137961e-14 8.41124791e-14 1.82536576e-13 3.82247050e-13 5.32258360e-14 3.56947612e-14 2.00245229e-13 4.10393053e-14 1.21994442e-13\n",
            " 6.69417253e-14 4.03023799e-14 1.40396795e-13 1.61272105e-13 7.58630151e-14 4.41710707e-14 1.31451585e-13 4.48069723e-14 5.20986825e-14 7.36698910e-14 5.68497750e-14 5.34990143e-14 7.27771792e-14\n",
            " 9.27576836e-14 1.08547774e-13 2.07430088e-13 1.36044008e-13 2.97947647e-13 2.95439468e-14 2.52535216e-13 1.10444897e-13 9.56152746e-14 2.84200642e-13 4.15702967e-14 1.05283586e-13 3.80546289e-13\n",
            " 1.75337230e-13 1.81782622e-13 1.50132158e-13 7.67455489e-14 2.70913175e-13 8.04737611e-14 8.59204540e-14 2.83715210e-14 7.51802388e-14 9.40316889e-14 6.10649362e-14 6.06711336e-14 5.62846346e-14\n",
            " 1.84208389e-13 5.66278415e-13 1.32040849e-13 1.02507460e-13 2.05522028e-13 4.16633247e-14 4.35817723e-13 9.41138714e-14 2.20445854e-13 1.82661259e-13 1.67682383e-13 1.85495987e-13 2.42232043e-13\n",
            " 1.82076874e-13 5.54164631e-14 8.84779243e-14 2.23167391e-13 1.24346226e-13 2.29451386e-13 1.44943560e-13 4.71965295e-13 9.32707484e-14 1.42078854e-13 6.37705695e-14 6.64030463e-14 1.27269777e-13\n",
            " 1.26192188e-13 3.51302409e-14 7.84864320e-14 1.25244067e-13 9.33362410e-14 1.36557202e-13 4.77434010e-13 7.95899330e-14 2.43934999e-13 6.62813175e-14 2.87317154e-13 4.73938820e-14 1.75098949e-13\n",
            " 1.31269683e-13 9.50606578e-14 1.12867303e-13 1.30073849e-13 6.54369340e-14 1.07809506e-13 3.85047998e-14 1.10541845e-13 1.60085744e-13 1.53365927e-13 4.24881620e-13 3.49126327e-13 2.50878907e-13\n",
            " 4.25768904e-14 3.15498387e-13 6.46220761e-13 1.49124148e-13 4.94841594e-14 6.83777443e-14 2.76373461e-13 7.40683488e-14 1.24220133e-13 1.10381295e-13 2.65171023e-13 1.47784833e-13 1.59951479e-13\n",
            " 6.66888826e-14 1.61225051e-13 3.73662337e-13 1.09705871e-13 2.74756699e-13 1.83269158e-13 8.65768300e-14 5.94477402e-14 4.25291651e-14 1.41314532e-13 1.24281255e-13 5.21842091e-14 5.26545191e-14\n",
            " 3.26803471e-14 4.22848361e-13 2.21323014e-13 2.18633569e-13 3.05644588e-13 3.19564633e-13 3.58995941e-14 5.24732574e-14 4.76844259e-13 9.12823419e-14 2.29736016e-13 5.21509783e-14 2.99905581e-13\n",
            " 9.76045755e-14 8.32556748e-14 1.42025199e-13 5.03225445e-13 6.79002549e-14 3.27270193e-13 2.01774592e-13 1.08868745e-13 7.47669681e-14 7.31423385e-14 5.32179179e-14 1.64644679e-13 8.84060688e-14\n",
            " 1.39576027e-13 1.51332167e-13 1.51590437e-13 9.97877860e-14 2.79457294e-14 9.98681389e-14 6.92706458e-14 3.32213532e-13 5.39922958e-14 2.37902671e-14 2.53714205e-13 1.20776856e-13 5.71221605e-14\n",
            " 4.62324081e-13 1.75119318e-13 4.62239405e-13 8.24739582e-14 1.43517468e-13 1.71235706e-13 1.99210941e-13 1.35831396e-13 1.37884672e-13 1.17085066e-13 4.86265589e-14 7.90453111e-14 3.50312125e-14\n",
            " 4.16898178e-13 8.01765406e-14 2.36887170e-13 7.39737522e-14 1.07156715e-14 1.27890523e-13 3.52464877e-14 2.21014952e-14 1.36288143e-13]\n",
            "7\n"
          ],
          "name": "stdout"
        }
      ]
    },
    {
      "cell_type": "code",
      "metadata": {
        "id": "2mR5WY0LBZqT",
        "colab_type": "code",
        "colab": {
          "base_uri": "https://localhost:8080/",
          "height": 1000
        },
        "outputId": "aec53113-8b06-4cbe-ca0e-25581ec45809"
      },
      "source": [
        "import tensorflow as tf\n",
        "print(tf.__version__)\n",
        "mnist = tf.keras.datasets.mnist\n",
        "(training_images, training_labels), (test_images, test_labels) = mnist.load_data()\n",
        "training_images = training_images / 255.0\n",
        "test_images = test_images / 255.0\n",
        "model = tf.keras.models.Sequential([tf.keras.layers.Flatten(), \n",
        "                                    tf.keras.layers.Dense(512, activation=tf.nn.relu),\n",
        "                                    tf.keras.layers.Dense(256, activation=tf.nn.softmax)])\n",
        "model.compile(optimizer='Adam', loss='sparse_categorical_crossentropy')\n",
        "model.fit(training_images, training_labels, epochs=30)\n",
        "model.evaluate(test_images, test_labels)\n",
        "classifications = model.predict(test_images)\n",
        "print(classifications[0])\n",
        "print(test_labels[0])"
      ],
      "execution_count": 57,
      "outputs": [
        {
          "output_type": "stream",
          "text": [
            "2.2.0\n",
            "Epoch 1/30\n",
            "1875/1875 [==============================] - 8s 4ms/step - loss: 0.2350\n",
            "Epoch 2/30\n",
            "1875/1875 [==============================] - 8s 4ms/step - loss: 0.0864\n",
            "Epoch 3/30\n",
            "1875/1875 [==============================] - 8s 4ms/step - loss: 0.0569\n",
            "Epoch 4/30\n",
            "1875/1875 [==============================] - 8s 4ms/step - loss: 0.0397\n",
            "Epoch 5/30\n",
            "1875/1875 [==============================] - 8s 4ms/step - loss: 0.0289\n",
            "Epoch 6/30\n",
            "1875/1875 [==============================] - 8s 4ms/step - loss: 0.0220\n",
            "Epoch 7/30\n",
            "1875/1875 [==============================] - 8s 4ms/step - loss: 0.0170\n",
            "Epoch 8/30\n",
            "1875/1875 [==============================] - 8s 4ms/step - loss: 0.0149\n",
            "Epoch 9/30\n",
            "1875/1875 [==============================] - 8s 4ms/step - loss: 0.0128\n",
            "Epoch 10/30\n",
            "1875/1875 [==============================] - 8s 4ms/step - loss: 0.0113\n",
            "Epoch 11/30\n",
            "1875/1875 [==============================] - 8s 4ms/step - loss: 0.0102\n",
            "Epoch 12/30\n",
            "1875/1875 [==============================] - 8s 4ms/step - loss: 0.0084\n",
            "Epoch 13/30\n",
            "1875/1875 [==============================] - 8s 4ms/step - loss: 0.0076\n",
            "Epoch 14/30\n",
            "1875/1875 [==============================] - 8s 4ms/step - loss: 0.0080\n",
            "Epoch 15/30\n",
            "1875/1875 [==============================] - 8s 4ms/step - loss: 0.0069\n",
            "Epoch 16/30\n",
            "1875/1875 [==============================] - 8s 4ms/step - loss: 0.0070\n",
            "Epoch 17/30\n",
            "1875/1875 [==============================] - 8s 4ms/step - loss: 0.0058\n",
            "Epoch 18/30\n",
            "1875/1875 [==============================] - 8s 4ms/step - loss: 0.0077\n",
            "Epoch 19/30\n",
            "1875/1875 [==============================] - 8s 4ms/step - loss: 0.0065\n",
            "Epoch 20/30\n",
            "1875/1875 [==============================] - 8s 4ms/step - loss: 0.0046\n",
            "Epoch 21/30\n",
            "1875/1875 [==============================] - 8s 4ms/step - loss: 0.0052\n",
            "Epoch 22/30\n",
            "1875/1875 [==============================] - 8s 4ms/step - loss: 0.0052\n",
            "Epoch 23/30\n",
            "1875/1875 [==============================] - 8s 4ms/step - loss: 0.0055\n",
            "Epoch 24/30\n",
            "1875/1875 [==============================] - 8s 4ms/step - loss: 0.0060\n",
            "Epoch 25/30\n",
            "1875/1875 [==============================] - 8s 4ms/step - loss: 0.0055\n",
            "Epoch 26/30\n",
            "1875/1875 [==============================] - 8s 4ms/step - loss: 0.0045\n",
            "Epoch 27/30\n",
            "1875/1875 [==============================] - 8s 4ms/step - loss: 0.0051\n",
            "Epoch 28/30\n",
            "1875/1875 [==============================] - 8s 4ms/step - loss: 0.0033\n",
            "Epoch 29/30\n",
            "1875/1875 [==============================] - 8s 4ms/step - loss: 0.0045\n",
            "Epoch 30/30\n",
            "1875/1875 [==============================] - 9s 5ms/step - loss: 0.0041\n",
            "313/313 [==============================] - 1s 3ms/step - loss: 0.1161\n",
            "[1.54988444e-20 9.62444586e-28 4.08313702e-20 4.88826473e-16 2.37048134e-33 1.07623866e-28 1.14730588e-31 1.00000000e+00 8.77539372e-22 3.01338214e-20 5.23238381e-27 2.40121525e-26 1.96819086e-26\n",
            " 2.57031668e-26 6.37493165e-26 2.67761516e-26 4.97754530e-26 5.34715929e-26 1.92354410e-26 4.98235180e-26 8.30683845e-26 2.59279937e-26 1.19790562e-26 5.80178476e-26 3.78170969e-25 2.04621891e-27\n",
            " 2.63635540e-25 1.30922918e-25 8.36870055e-26 1.63877995e-26 6.68010681e-26 5.28665736e-26 1.10903174e-26 1.02934423e-25 1.28126865e-26 4.71363404e-26 2.74982644e-26 9.35617075e-27 1.46497494e-26\n",
            " 4.56538797e-26 1.22790468e-26 2.87944184e-26 2.11328503e-26 3.39657991e-26 3.38024186e-26 1.18165748e-26 1.59121041e-26 4.26130612e-26 4.60992625e-26 1.74106840e-26 5.12427774e-26 8.61484180e-26\n",
            " 5.52458336e-26 3.79940649e-26 1.92983542e-26 2.16312671e-27 2.38103982e-25 4.19695325e-26 1.37666813e-26 1.14299721e-26 2.56493948e-26 3.41261967e-26 5.38878896e-26 1.20309485e-25 4.01142734e-26\n",
            " 4.70187107e-26 2.74432629e-25 2.88379505e-26 1.75444268e-26 4.52830473e-26 3.16854642e-26 3.99975313e-26 8.55383512e-26 2.82900990e-26 1.21562857e-26 6.44850279e-26 5.78284902e-26 2.18757431e-26\n",
            " 1.25194144e-26 1.34618405e-26 7.31972139e-26 1.26430996e-25 1.97000108e-26 4.59197135e-26 3.17182358e-26 2.43501270e-26 1.32102801e-26 1.57564473e-26 8.58914450e-27 3.11836377e-26 2.57517480e-26\n",
            " 2.69998392e-27 3.00212881e-26 1.18718377e-25 1.57866573e-25 1.34548578e-26 4.93718982e-26 8.12664660e-26 2.45077097e-26 5.90647046e-27 6.65926563e-27 1.75222878e-26 8.24681276e-27 7.58935421e-27\n",
            " 3.36192796e-27 9.58667221e-27 6.75003748e-26 1.62993315e-26 4.93231429e-26 3.73716475e-26 5.17338063e-26 2.02778939e-25 1.34183564e-27 1.40202230e-26 1.74459871e-26 7.91501509e-27 1.28140547e-26\n",
            " 7.58568215e-26 4.62106899e-27 4.39062446e-26 2.28208770e-26 5.51874609e-27 1.64191586e-25 5.31162003e-27 9.08358418e-26 8.05184718e-26 5.60807319e-26 9.23299829e-27 4.38220553e-27 6.16445494e-27\n",
            " 1.78814537e-26 4.77802881e-26 2.96751507e-26 1.12522146e-25 1.60198452e-26 9.61905557e-27 3.66103875e-26 8.20307982e-26 7.24418904e-27 1.17930229e-26 3.68870936e-27 3.66616789e-26 1.15572075e-26\n",
            " 3.29477926e-26 3.70839321e-26 6.89599246e-27 4.33252516e-26 1.14357290e-26 2.26009127e-26 5.26062557e-26 1.23730454e-25 3.21887358e-26 2.06846925e-26 4.25154767e-26 2.41274772e-26 3.95182767e-26\n",
            " 3.06401587e-26 1.15507343e-25 3.69037205e-26 9.08919927e-26 2.60162826e-25 1.10868060e-26 7.96113341e-27 5.63505038e-26 1.47563150e-26 2.50666993e-26 2.38114903e-25 1.55296914e-26 4.60758802e-26\n",
            " 3.81449338e-27 1.74951045e-26 8.46340885e-26 3.05981118e-26 3.24217703e-26 9.07564827e-27 5.63887821e-26 3.96888209e-27 1.69181344e-26 1.00886081e-26 2.04402766e-26 9.82919270e-26 4.60693783e-26\n",
            " 9.89480251e-26 5.53808767e-26 1.78512521e-27 2.94755566e-27 8.18207378e-27 1.51658386e-26 2.51954485e-26 6.88858118e-26 2.52893337e-26 5.19955325e-27 2.99110910e-26 2.78241969e-27 1.48122625e-26\n",
            " 1.23656375e-25 1.31081273e-26 9.91021488e-26 3.61753061e-26 6.53385292e-27 1.28582774e-25 6.04612310e-27 2.60988714e-26 6.09003469e-27 5.08001894e-26 5.15130516e-26 8.86334839e-27 1.41413471e-26\n",
            " 9.84450277e-26 4.78932432e-26 4.62586864e-26 4.33690496e-27 2.26827925e-26 2.59523343e-26 2.94082970e-26 2.06142026e-25 2.46485337e-26 9.35724619e-26 2.83539505e-26 3.02827277e-26 7.65033762e-27\n",
            " 1.92913527e-27 1.15559733e-26 5.95661474e-26 1.09533423e-25 3.10447674e-26 8.68413152e-26 2.91351724e-26 1.40330651e-26 5.36673360e-27 8.04079758e-26 7.31589727e-26 6.49288423e-26 1.65581565e-26\n",
            " 1.11525965e-26 2.37241643e-26 7.14214172e-27 7.23096407e-27 1.32104311e-26 8.08792647e-26 1.15624612e-25 6.67539105e-27 4.35570627e-27 2.04757076e-26 2.14767012e-26 7.40521296e-26 1.12240485e-25\n",
            " 2.59657049e-26 1.16074054e-25 1.13179877e-26 1.46374035e-26 1.49118161e-26 9.89559060e-27 6.20700289e-26 3.33679954e-25 8.46556759e-27]\n",
            "7\n"
          ],
          "name": "stdout"
        }
      ]
    },
    {
      "cell_type": "code",
      "metadata": {
        "id": "WZrY2wbqETrg",
        "colab_type": "code",
        "colab": {
          "base_uri": "https://localhost:8080/",
          "height": 280
        },
        "outputId": "f4bd4016-d536-4371-8238-276b3e1ad2e3"
      },
      "source": [
        "import tensorflow as tf\n",
        "print(tf.__version__)\n",
        "mnist = tf.keras.datasets.mnist\n",
        "(training_images, training_labels), (test_images, test_labels) = mnist.load_data()\n",
        "#training_images = training_images / 255.0\n",
        "#test_images = test_images / 255.0\n",
        "model = tf.keras.models.Sequential([tf.keras.layers.Flatten(), \n",
        "                                    tf.keras.layers.Dense(512, activation=tf.nn.relu),\n",
        "                                    tf.keras.layers.Dense(10, activation=tf.nn.softmax)])\n",
        "model.compile(optimizer='Adam', loss='sparse_categorical_crossentropy')\n",
        "model.fit(training_images, training_labels, epochs=5)\n",
        "model.evaluate(test_images, test_labels)\n",
        "classifications = model.predict(test_images)\n",
        "print(classifications[0])\n",
        "print(test_labels[0])"
      ],
      "execution_count": 60,
      "outputs": [
        {
          "output_type": "stream",
          "text": [
            "2.2.0\n",
            "Epoch 1/5\n",
            "1875/1875 [==============================] - 6s 3ms/step - loss: 2.5980\n",
            "Epoch 2/5\n",
            "1875/1875 [==============================] - 6s 3ms/step - loss: 0.3322\n",
            "Epoch 3/5\n",
            "1875/1875 [==============================] - 6s 3ms/step - loss: 0.2995\n",
            "Epoch 4/5\n",
            "1875/1875 [==============================] - 6s 3ms/step - loss: 0.2551\n",
            "Epoch 5/5\n",
            "1875/1875 [==============================] - 6s 3ms/step - loss: 0.2291\n",
            "313/313 [==============================] - 0s 2ms/step - loss: 0.3122\n",
            "[2.0816527e-30 4.2356326e-27 4.7962743e-25 2.4870218e-25 6.9675367e-37 4.2054314e-26 0.0000000e+00 1.0000000e+00 2.5212909e-29 3.9056466e-22]\n",
            "7\n"
          ],
          "name": "stdout"
        }
      ]
    },
    {
      "cell_type": "code",
      "metadata": {
        "id": "unzFo7wpFDAh",
        "colab_type": "code",
        "colab": {
          "base_uri": "https://localhost:8080/",
          "height": 506
        },
        "outputId": "f61fb5d3-f6e5-4e89-9ed8-9482e1174f27"
      },
      "source": [
        "import tensorflow as tf\n",
        "print(tf.__version__)\n",
        "\n",
        "class myCallback(tf.keras.callbacks.Callback):\n",
        "  def on_epoch_end(self, epoch, logs={}):\n",
        "    if(logs.get('loss') < 0.4):\n",
        "      print(\"\\nReached 60% accuracy so cancelling training!\")\n",
        "      self.model.stop_training = True\n",
        "\n",
        "callbacks = myCallback()\n",
        "mnist = tf.keras.datasets.mnist\n",
        "(training_images, training_labels), (test_images, test_labels) = mnist.load_data()\n",
        "training_images = training_images / 255.0\n",
        "test_images = test_images / 255.0\n",
        "model = tf.keras.models.Sequential([tf.keras.layers.Flatten(), \n",
        "                                    tf.keras.layers.Dense(512, activation=tf.nn.relu),\n",
        "                                    tf.keras.layers.Dense(256, activation=tf.nn.softmax)])\n",
        "model.compile(optimizer='Adam', loss='sparse_categorical_crossentropy')\n",
        "model.fit(training_images, training_labels, epochs=5, callbacks=[callbacks])\n",
        "model.evaluate(test_images, test_labels)\n",
        "classifications = model.predict(test_images)\n",
        "print(classifications[0])\n",
        "print(test_labels[0])"
      ],
      "execution_count": 63,
      "outputs": [
        {
          "output_type": "stream",
          "text": [
            "2.2.0\n",
            "Epoch 1/5\n",
            "1871/1875 [============================>.] - ETA: 0s - loss: 0.2311\n",
            "Reached 60% accuracy so cancelling training!\n",
            "1875/1875 [==============================] - 8s 4ms/step - loss: 0.2309\n",
            "313/313 [==============================] - 1s 2ms/step - loss: 0.1117\n",
            "[1.25186716e-06 1.64858832e-07 2.28259305e-05 5.66927250e-04 1.81989481e-08 1.51850247e-06 1.44729673e-10 9.99402404e-01 9.57349584e-07 3.89399702e-06 5.97856556e-11 3.86663999e-11 1.86134476e-11\n",
            " 1.72878448e-10 2.03990921e-11 4.85227726e-11 1.13634296e-10 1.98669657e-11 8.94703062e-11 3.17830658e-11 3.87527822e-11 1.39963041e-10 5.57443293e-11 5.22174387e-11 4.60277060e-11 7.81699774e-11\n",
            " 1.09193939e-10 2.12661052e-11 1.16448712e-10 1.71242395e-11 1.71730720e-11 5.68876057e-11 6.14276338e-11 2.47406887e-11 1.04265555e-10 6.01670519e-11 2.58439364e-11 3.10673119e-11 3.56830364e-11\n",
            " 1.09053239e-10 5.54143190e-11 4.16728457e-11 1.83662304e-11 2.07503095e-11 4.06356615e-11 1.69844416e-10 4.11419579e-11 1.26770400e-10 3.36963686e-11 5.17488587e-11 1.84101415e-11 4.56689929e-11\n",
            " 2.92576033e-11 1.54500038e-10 7.44142456e-11 1.36292696e-11 5.63694820e-11 7.47090584e-11 4.19628568e-11 3.46501577e-11 6.23448862e-11 5.87470628e-11 1.50892771e-11 2.38309494e-11 5.23516681e-11\n",
            " 7.01550901e-11 2.54167330e-11 2.18212583e-11 2.14783608e-11 8.28904098e-11 1.31490638e-10 8.64900946e-12 5.31120252e-11 5.16845455e-11 1.19505253e-10 4.30565757e-11 8.01425593e-11 5.90763966e-11\n",
            " 3.24195774e-11 2.34585303e-11 8.21768278e-11 1.28663372e-10 8.43318818e-11 1.98508293e-11 5.13749494e-11 3.05706675e-11 3.45386428e-11 2.21892574e-11 4.48856438e-11 1.06874627e-10 1.22982388e-10\n",
            " 3.09747714e-11 1.05633328e-10 4.22111408e-11 2.98989167e-11 2.46587629e-11 1.10896153e-10 9.59261351e-11 4.49059401e-11 8.66989119e-11 2.33996763e-11 8.91607760e-11 5.34802168e-11 2.12904666e-10\n",
            " 7.38994005e-11 7.17589391e-11 6.72426698e-11 1.68372941e-10 1.21335567e-10 1.09198109e-10 8.16911261e-11 4.03341943e-11 1.37210833e-11 5.49331865e-11 1.14293359e-10 5.32716163e-11 1.06395441e-10\n",
            " 4.41402262e-11 2.91751866e-11 2.21366710e-11 3.12937211e-11 6.57795346e-11 7.47170381e-11 1.19996495e-11 4.01882937e-11 4.42786849e-11 4.25425320e-11 1.45677956e-10 2.18433709e-11 8.21013188e-11\n",
            " 3.32585973e-11 1.34987826e-10 1.54792054e-10 5.00569412e-11 9.91812951e-11 4.36386240e-11 6.04791980e-11 9.90820342e-11 1.93300931e-11 1.17271845e-10 3.02142790e-11 8.04624770e-12 3.18776568e-11\n",
            " 3.53670149e-11 9.19147466e-11 8.30105013e-11 2.67186308e-11 2.76648496e-11 4.56563641e-11 5.23468768e-11 5.41587400e-11 4.42893257e-11 7.93470706e-11 3.79230813e-11 5.28906328e-11 3.37039528e-11\n",
            " 4.66231498e-11 3.80775342e-11 1.53156848e-10 8.69076824e-11 7.53593715e-11 1.98534161e-10 1.63312159e-11 8.58928831e-11 7.26733881e-11 2.51185583e-11 1.64631954e-11 1.17879137e-10 1.01851409e-10\n",
            " 7.18960724e-11 4.95239856e-11 4.40201625e-11 8.29611171e-11 5.29145477e-11 4.84569225e-11 3.01879528e-11 1.20345872e-10 1.79200627e-10 7.18678311e-11 1.48017210e-10 6.70999506e-11 1.21257823e-10\n",
            " 7.45593032e-11 6.71103173e-11 6.48160692e-11 3.28113647e-11 6.21954710e-11 1.22684377e-10 3.33803020e-11 1.24188798e-10 2.37496342e-11 7.19119833e-11 3.74875547e-11 7.69548314e-11 1.69899497e-10\n",
            " 8.98993310e-11 8.11137060e-11 6.65556846e-11 5.59009505e-11 6.14834225e-11 1.83865007e-10 3.04736202e-11 5.64153030e-11 1.37027556e-10 3.13078070e-11 8.16981413e-11 1.67177425e-10 2.23646986e-11\n",
            " 1.52855964e-10 8.05959952e-11 1.20157800e-10 8.64705113e-11 4.10388182e-11 3.46354230e-11 1.67786826e-11 3.79458721e-11 6.52268101e-11 8.21257506e-11 3.30789285e-11 8.11154061e-11 1.02761313e-10\n",
            " 6.77685130e-11 9.16056675e-11 4.84939033e-11 1.02769154e-10 5.79442570e-11 4.36293050e-11 1.10882616e-10 2.27080108e-11 4.40033739e-11 3.46382610e-11 2.71876757e-11 3.60143859e-11 1.07570168e-10\n",
            " 9.37824957e-11 3.87086821e-11 1.61067604e-10 3.77138216e-11 1.31575445e-10 4.29288133e-11 4.74844331e-11 9.42075792e-11 2.59009827e-11 1.25974731e-10 4.97214214e-11 7.78619530e-11 5.20932915e-11\n",
            " 4.40221783e-11 7.72511638e-11 7.84673923e-11 4.80693714e-11 1.25595187e-10 3.78200041e-11 2.95694302e-10 9.94829150e-11 5.75345778e-11]\n",
            "7\n"
          ],
          "name": "stdout"
        }
      ]
    }
  ]
}